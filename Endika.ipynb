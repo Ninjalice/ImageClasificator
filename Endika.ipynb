{
 "cells": [
  {
   "cell_type": "code",
   "execution_count": 1,
   "metadata": {},
   "outputs": [],
   "source": [
    "import cv2\n",
    "import os\n",
    "import sys\n",
    "import time\n",
    "import numpy as np \n",
    "import json\n",
    "import skimage\n",
    "from matplotlib import pyplot as plt\n",
    "from skimage import color\n",
    "from skimage.feature import hog\n",
    "from sklearn.model_selection import train_test_split\n",
    "from sklearn import svm\n",
    "from sklearn.metrics import classification_report,accuracy_score\n",
    "from sklearn.model_selection import ShuffleSplit\n"
   ]
  },
  {
   "cell_type": "code",
   "execution_count": 2,
   "metadata": {},
   "outputs": [
    {
     "name": "stdout",
     "output_type": "stream",
     "text": [
      "CLASES: 8 ['cavallo', 'elefante', 'farfalla', 'gallina', 'gatto', 'mucca', 'pecora', 'ragno']\n"
     ]
    }
   ],
   "source": [
    "clases = os.listdir(\"raw-img\")\n",
    "print(\"CLASES:\" , len(clases) , clases)"
   ]
  },
  {
   "cell_type": "code",
   "execution_count": 14,
   "metadata": {},
   "outputs": [
    {
     "name": "stdout",
     "output_type": "stream",
     "text": [
      "Procesando label:  cavallo\n",
      " Procesando Xtest ... (100 %)\n",
      "Procesando label:  elefante\n",
      " Procesando Xtest ... (100 %)\n",
      "Procesando label:  farfalla\n",
      " Procesando Xtest ... (100 %)\n",
      "Procesando label:  gallina\n",
      " Procesando Xtest ... (100 %)\n",
      "Procesando label:  gatto\n",
      " Procesando Xtest ... (100 %)\n",
      "Procesando label:  mucca\n",
      " Procesando Xtest ... (100 %)\n",
      "Procesando label:  pecora\n",
      " Procesando Xtest ... (100 %)\n",
      "Procesando label:  ragno\n",
      " Procesando Xtest ... (100 %)\n",
      "(3200, 58752) (3200,)\n"
     ]
    }
   ],
   "source": [
    "# Creamos las listas donde almacenaremos las características y las etiquetas\n",
    "X = []\n",
    "Y = []\n",
    "ppc = 10\n",
    "\n",
    "HEIGHT =  200\n",
    "WIDTH = 300\n",
    "\n",
    "NImagenes = 400\n",
    "\n",
    "# Recorremos cada una de las carpetas\n",
    "for folder in os.listdir(\"raw-img\"):\n",
    "    print(\"Procesando label: \", folder)\n",
    "    # Leemos cada una de las imágenes de la carpeta\n",
    "    for count, file in enumerate(os.listdir(os.path.join(\"raw-img\", folder))[:NImagenes]):\n",
    "        # Cargamos la imagen y la convertimos a escala de grises\n",
    "        image = skimage.io.imread(os.path.join(\"raw-img\", folder, file), as_gray=True)\n",
    "\n",
    "        resized_image = cv2.resize(image, (HEIGHT, WIDTH), interpolation=cv2.INTER_LINEAR)\n",
    "        # Calculamos las características con HOG\n",
    "        features = hog(resized_image, orientations=8, pixels_per_cell=(ppc,ppc),cells_per_block=(4, 4),block_norm= 'L2')\n",
    "        # Añadimos las características y la etiqueta a las listas\n",
    "        X.append(features)\n",
    "        Y.append(folder)\n",
    "        progress = 100 * (count + 1) / len(os.listdir(os.path.join(\"raw-img\", folder))[:NImagenes])\n",
    "        sys.stdout.write( \"\\r Procesando Xtest ... (\" + str(int(progress)) + \" %)\")\n",
    "    print(\"\")\n",
    "X = np.array(X)\n",
    "Y = np.array(Y)\n",
    "print(X.shape, Y.shape)\n"
   ]
  },
  {
   "cell_type": "code",
   "execution_count": 16,
   "metadata": {},
   "outputs": [
    {
     "name": "stdout",
     "output_type": "stream",
     "text": [
      "SHAPE Xtrain (2560, 58752)\n",
      "SHAPE y_train (2560,)\n",
      "SHAPE X_test (640, 58752)\n",
      "SHAPE y_test (640,)\n"
     ]
    }
   ],
   "source": [
    "\n",
    "rs = ShuffleSplit(n_splits=5, test_size=.20, random_state=0)\n",
    "for train_index, test_index in rs.split(X, Y):\n",
    "    Xtrain = X[train_index]\n",
    "    ytrain = Y[train_index]\n",
    "    Xtest = X[test_index]\n",
    "    ytest = Y[test_index]\n",
    "    \n",
    "\n",
    "print(\"SHAPE Xtrain\",Xtrain.shape)\n",
    "print(\"SHAPE y_train\",ytrain.shape)\n",
    "print(\"SHAPE X_test\",Xtest.shape)\n",
    "print(\"SHAPE y_test\",ytest.shape)"
   ]
  },
  {
   "cell_type": "code",
   "execution_count": 22,
   "metadata": {},
   "outputs": [
    {
     "name": "stdout",
     "output_type": "stream",
     "text": [
      "Accuracy: 0.53984375\n",
      "\n",
      "\n",
      "              precision    recall  f1-score   support\n",
      "\n",
      "     cavallo       0.66      0.55      0.60       199\n",
      "    elefante       0.58      0.51      0.54       167\n",
      "    farfalla       0.51      0.54      0.52       138\n",
      "     gallina       0.61      0.63      0.62       170\n",
      "       gatto       0.53      0.62      0.57       158\n",
      "       mucca       0.52      0.48      0.50       163\n",
      "      pecora       0.41      0.45      0.43       154\n",
      "       ragno       0.49      0.54      0.51       131\n",
      "\n",
      "    accuracy                           0.54      1280\n",
      "   macro avg       0.54      0.54      0.54      1280\n",
      "weighted avg       0.55      0.54      0.54      1280\n",
      "\n"
     ]
    }
   ],
   "source": [
    "clf = svm.SVC()\n",
    "clf.fit(Xtrain, ytrain)\n",
    "y_pred = clf.predict(Xtest)\n",
    "print(\"Accuracy: \"+str(accuracy_score(ytest, y_pred)))\n",
    "print('\\n')\n",
    "print(classification_report(ytest, y_pred))\n"
   ]
  },
  {
   "cell_type": "code",
   "execution_count": 5,
   "metadata": {},
   "outputs": [
    {
     "name": "stdout",
     "output_type": "stream",
     "text": [
      "Accuracy: 0.5375\n",
      "\n",
      "\n",
      "              precision    recall  f1-score   support\n",
      "\n",
      "     cavallo       0.63      0.65      0.64        37\n",
      "    elefante       0.51      0.43      0.47        42\n",
      "    farfalla       0.52      0.66      0.58        41\n",
      "     gallina       0.48      0.47      0.47        43\n",
      "       gatto       0.63      0.58      0.60        38\n",
      "       mucca       0.65      0.52      0.58        42\n",
      "      pecora       0.34      0.39      0.37        38\n",
      "       ragno       0.60      0.62      0.61        39\n",
      "\n",
      "    accuracy                           0.54       320\n",
      "   macro avg       0.54      0.54      0.54       320\n",
      "weighted avg       0.54      0.54      0.54       320\n",
      "\n"
     ]
    }
   ],
   "source": [
    "clf = svm.SVC()\n",
    "clf.fit(Xtrain, ytrain)\n",
    "y_pred = clf.predict(Xtest)\n",
    "print(\"Accuracy: \"+str(accuracy_score(ytest, y_pred)))\n",
    "print('\\n')\n",
    "print(classification_report(ytest, y_pred))"
   ]
  },
  {
   "cell_type": "code",
   "execution_count": 8,
   "metadata": {},
   "outputs": [
    {
     "name": "stdout",
     "output_type": "stream",
     "text": [
      "Accuracy: 0.5796875\n",
      "\n",
      "\n",
      "              precision    recall  f1-score   support\n",
      "\n",
      "     cavallo       0.66      0.55      0.60        73\n",
      "    elefante       0.71      0.53      0.60        99\n",
      "    farfalla       0.64      0.52      0.58        84\n",
      "     gallina       0.64      0.56      0.60        81\n",
      "       gatto       0.52      0.64      0.57        74\n",
      "       mucca       0.59      0.64      0.61        77\n",
      "      pecora       0.52      0.67      0.59        81\n",
      "       ragno       0.44      0.56      0.50        71\n",
      "\n",
      "    accuracy                           0.58       640\n",
      "   macro avg       0.59      0.58      0.58       640\n",
      "weighted avg       0.60      0.58      0.58       640\n",
      "\n"
     ]
    }
   ],
   "source": [
    "## ppc 25 400 imagenes\n",
    "clf = svm.SVC()\n",
    "clf.fit(Xtrain, ytrain)\n",
    "y_pred = clf.predict(Xtest)\n",
    "print(\"Accuracy: \"+str(accuracy_score(ytest, y_pred)))\n",
    "print('\\n')\n",
    "print(classification_report(ytest, y_pred))"
   ]
  },
  {
   "cell_type": "code",
   "execution_count": 5,
   "metadata": {},
   "outputs": [
    {
     "name": "stdout",
     "output_type": "stream",
     "text": [
      "Accuracy: 0.5828125\n",
      "\n",
      "\n",
      "              precision    recall  f1-score   support\n",
      "\n",
      "     cavallo       0.69      0.56      0.62        73\n",
      "    elefante       0.71      0.47      0.57        99\n",
      "    farfalla       0.64      0.50      0.56        84\n",
      "     gallina       0.63      0.57      0.60        81\n",
      "       gatto       0.56      0.66      0.61        74\n",
      "       mucca       0.56      0.65      0.60        77\n",
      "      pecora       0.52      0.70      0.60        81\n",
      "       ragno       0.46      0.58      0.51        71\n",
      "\n",
      "    accuracy                           0.58       640\n",
      "   macro avg       0.60      0.59      0.58       640\n",
      "weighted avg       0.60      0.58      0.58       640\n",
      "\n"
     ]
    }
   ],
   "source": [
    "## ppc 30 400 imagenes\n",
    "clf = svm.SVC()\n",
    "clf.fit(Xtrain, ytrain)\n",
    "y_pred = clf.predict(Xtest)\n",
    "print(\"Accuracy: \"+str(accuracy_score(ytest, y_pred)))\n",
    "print('\\n')\n",
    "print(classification_report(ytest, y_pred))"
   ]
  },
  {
   "cell_type": "code",
   "execution_count": 8,
   "metadata": {},
   "outputs": [
    {
     "name": "stdout",
     "output_type": "stream",
     "text": [
      "Accuracy: 0.56875\n",
      "\n",
      "\n",
      "              precision    recall  f1-score   support\n",
      "\n",
      "     cavallo       0.63      0.59      0.61        73\n",
      "    elefante       0.67      0.51      0.57        99\n",
      "    farfalla       0.61      0.49      0.54        84\n",
      "     gallina       0.61      0.57      0.59        81\n",
      "       gatto       0.55      0.62      0.58        74\n",
      "       mucca       0.60      0.60      0.60        77\n",
      "      pecora       0.49      0.65      0.56        81\n",
      "       ragno       0.45      0.55      0.50        71\n",
      "\n",
      "    accuracy                           0.57       640\n",
      "   macro avg       0.58      0.57      0.57       640\n",
      "weighted avg       0.58      0.57      0.57       640\n",
      "\n"
     ]
    }
   ],
   "source": [
    "## ppc 40 400 imagenes\n",
    "clf = svm.SVC()\n",
    "clf.fit(Xtrain, ytrain)\n",
    "y_pred = clf.predict(Xtest)\n",
    "print(\"Accuracy: \"+str(accuracy_score(ytest, y_pred)))\n",
    "print('\\n')\n",
    "print(classification_report(ytest, y_pred))"
   ]
  },
  {
   "cell_type": "code",
   "execution_count": 11,
   "metadata": {},
   "outputs": [
    {
     "name": "stdout",
     "output_type": "stream",
     "text": [
      "Accuracy: 0.55078125\n",
      "\n",
      "\n",
      "              precision    recall  f1-score   support\n",
      "\n",
      "     cavallo       0.70      0.57      0.63       199\n",
      "    elefante       0.51      0.47      0.49       167\n",
      "    farfalla       0.50      0.60      0.55       138\n",
      "     gallina       0.59      0.60      0.59       170\n",
      "       gatto       0.59      0.58      0.59       158\n",
      "       mucca       0.54      0.54      0.54       163\n",
      "      pecora       0.45      0.53      0.49       154\n",
      "       ragno       0.52      0.52      0.52       131\n",
      "\n",
      "    accuracy                           0.55      1280\n",
      "   macro avg       0.55      0.55      0.55      1280\n",
      "weighted avg       0.56      0.55      0.55      1280\n",
      "\n"
     ]
    }
   ],
   "source": [
    "## ppc 40 800 imagenes\n",
    "clf = svm.SVC()\n",
    "clf.fit(Xtrain, ytrain)\n",
    "y_pred = clf.predict(Xtest)\n",
    "print(\"Accuracy: \"+str(accuracy_score(ytest, y_pred)))\n",
    "print('\\n')\n",
    "print(classification_report(ytest, y_pred))"
   ]
  },
  {
   "cell_type": "code",
   "execution_count": 5,
   "metadata": {},
   "outputs": [
    {
     "name": "stdout",
     "output_type": "stream",
     "text": [
      "Accuracy: 0.54375\n",
      "\n",
      "\n",
      "              precision    recall  f1-score   support\n",
      "\n",
      "     cavallo       0.61      0.59      0.60        58\n",
      "    elefante       0.54      0.53      0.54        60\n",
      "    farfalla       0.57      0.64      0.61        67\n",
      "     gallina       0.56      0.42      0.48        55\n",
      "       gatto       0.48      0.45      0.47        53\n",
      "       mucca       0.58      0.58      0.58        64\n",
      "      pecora       0.51      0.61      0.56        66\n",
      "       ragno       0.49      0.49      0.49        57\n",
      "\n",
      "    accuracy                           0.54       480\n",
      "   macro avg       0.54      0.54      0.54       480\n",
      "weighted avg       0.54      0.54      0.54       480\n",
      "\n"
     ]
    }
   ],
   "source": [
    "## ppc 20 300 imagenes\n",
    "clf = svm.SVC()\n",
    "clf.fit(Xtrain, ytrain)\n",
    "y_pred = clf.predict(Xtest)\n",
    "print(\"Accuracy: \"+str(accuracy_score(ytest, y_pred)))\n",
    "print('\\n')\n",
    "print(classification_report(ytest, y_pred))"
   ]
  },
  {
   "cell_type": "code",
   "execution_count": 8,
   "metadata": {},
   "outputs": [
    {
     "name": "stderr",
     "output_type": "stream",
     "text": [
      "c:\\Users\\trene\\AppData\\Local\\Programs\\Python\\Python39\\lib\\site-packages\\sklearn\\neural_network\\_multilayer_perceptron.py:536: ConvergenceWarning: lbfgs failed to converge (status=1):\n",
      "STOP: TOTAL NO. of ITERATIONS REACHED LIMIT.\n",
      "\n",
      "Increase the number of iterations (max_iter) or scale the data as shown in:\n",
      "    https://scikit-learn.org/stable/modules/preprocessing.html\n",
      "  self.n_iter_ = _check_optimize_result(\"lbfgs\", opt_res, self.max_iter)\n",
      "c:\\Users\\trene\\AppData\\Local\\Programs\\Python\\Python39\\lib\\site-packages\\sklearn\\neural_network\\_multilayer_perceptron.py:536: ConvergenceWarning: lbfgs failed to converge (status=1):\n",
      "STOP: TOTAL NO. of ITERATIONS REACHED LIMIT.\n",
      "\n",
      "Increase the number of iterations (max_iter) or scale the data as shown in:\n",
      "    https://scikit-learn.org/stable/modules/preprocessing.html\n",
      "  self.n_iter_ = _check_optimize_result(\"lbfgs\", opt_res, self.max_iter)\n",
      "c:\\Users\\trene\\AppData\\Local\\Programs\\Python\\Python39\\lib\\site-packages\\sklearn\\neural_network\\_multilayer_perceptron.py:536: ConvergenceWarning: lbfgs failed to converge (status=1):\n",
      "STOP: TOTAL NO. of ITERATIONS REACHED LIMIT.\n",
      "\n",
      "Increase the number of iterations (max_iter) or scale the data as shown in:\n",
      "    https://scikit-learn.org/stable/modules/preprocessing.html\n",
      "  self.n_iter_ = _check_optimize_result(\"lbfgs\", opt_res, self.max_iter)\n"
     ]
    },
    {
     "data": {
      "image/png": "[encoded data removed]",
      "text/plain": [
       "<Figure size 640x480 with 1 Axes>"
      ]
     },
     "metadata": {},
     "output_type": "display_data"
    }
   ],
   "source": [
    "from sklearn.neural_network import MLPClassifier\n",
    "\n",
    "hidden_sizes = range(1, 9, 2)\n",
    "accuracies = np.zeros(len(hidden_sizes))\n",
    "\n",
    "for s, size in enumerate(hidden_sizes):\n",
    "    # Crea el clasificador con size neuronas en la capa oculta.\n",
    "    # Después entrénalo, y obten la precisión en los datos de entrenamiento.\n",
    "    # Guarda la precisión final en una variable accTrain.\n",
    "    clasificador = MLPClassifier(hidden_layer_sizes = size, solver = 'lbfgs', max_iter = 300)\n",
    "    \n",
    "    clasificador.fit(Xtrain,ytrain.ravel())\n",
    "    \n",
    "    y_pred = clasificador.predict(Xtest)\n",
    "    \n",
    "    accTrain = accuracy_score(y_pred, ytest)\n",
    "    \n",
    "    accuracies[s] = accTrain\n",
    "\n",
    "# Muestra en una gráfica como ha cambiado el error conforme aumentábamos hidden_sizes\n",
    "plt.plot(hidden_sizes, accuracies)\n",
    "plt.xlabel('hidden_sizes');\n",
    "plt.ylabel('Accuracy');"
   ]
  },
  {
   "cell_type": "code",
   "execution_count": 17,
   "metadata": {},
   "outputs": [
    {
     "name": "stdout",
     "output_type": "stream",
     "text": [
      "Accuracy: 0.4953125\n",
      "\n",
      "\n",
      "              precision    recall  f1-score   support\n",
      "\n",
      "     cavallo       0.65      0.45      0.53        73\n",
      "    elefante       0.55      0.55      0.55        99\n",
      "    farfalla       0.55      0.43      0.48        84\n",
      "     gallina       0.50      0.52      0.51        81\n",
      "       gatto       0.55      0.54      0.54        74\n",
      "       mucca       0.52      0.51      0.51        77\n",
      "      pecora       0.41      0.46      0.43        81\n",
      "       ragno       0.35      0.51      0.41        71\n",
      "\n",
      "    accuracy                           0.50       640\n",
      "   macro avg       0.51      0.49      0.50       640\n",
      "weighted avg       0.51      0.50      0.50       640\n",
      "\n"
     ]
    }
   ],
   "source": [
    "from sklearn.neural_network import MLPClassifier\n",
    "\n",
    "hidden_sizes = (60)\n",
    "\n",
    "\n",
    "\n",
    "clasificador = MLPClassifier(hidden_layer_sizes = 60, solver = 'lbfgs', max_iter = 500)\n",
    "\n",
    "clasificador.fit(Xtrain,ytrain.ravel())\n",
    "\n",
    "y_pred = clasificador.predict(Xtest)\n",
    "\n",
    "accTrain = accuracy_score(y_pred, ytest)\n",
    "\n",
    "print(\"Accuracy: \"+str(accuracy_score(ytest, y_pred)))\n",
    "print('\\n')\n",
    "print(classification_report(ytest, y_pred))"
   ]
  }
 ],
 "metadata": {
  "kernelspec": {
   "display_name": "Python 3",
   "language": "python",
   "name": "python3"
  },
  "language_info": {
   "codemirror_mode": {
    "name": "ipython",
    "version": 3
   },
   "file_extension": ".py",
   "mimetype": "text/x-python",
   "name": "python",
   "nbconvert_exporter": "python",
   "pygments_lexer": "ipython3",
   "version": "3.9.13 (tags/v3.9.13:6de2ca5, May 17 2022, 16:36:42) [MSC v.1929 64 bit (AMD64)]"
  },
  "orig_nbformat": 4,
  "vscode": {
   "interpreter": {
    "hash": "0976716e55e5899a142c1b5415ca2b6b5197e687a31d3b18e07b1a9837ecdd7e"
   }
  }
 },
 "nbformat": 4,
 "nbformat_minor": 2
}
