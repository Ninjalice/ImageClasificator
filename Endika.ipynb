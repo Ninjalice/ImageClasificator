{
 "cells": [
  {
   "cell_type": "code",
   "execution_count": 1,
   "metadata": {},
   "outputs": [],
   "source": [
    "import cv2\n",
    "import numpy as np\n",
    "from sklearn.svm import SVC\n",
    "import os\n",
    "import sys\n",
    "import time\n",
    "from skimage.feature import hog\n",
    "from skimage import data, exposure"
   ]
  },
  {
   "cell_type": "code",
   "execution_count": 4,
   "metadata": {},
   "outputs": [
    {
     "name": "stdout",
     "output_type": "stream",
     "text": [
      "CLASES: 10 ['perro', 'caballo', 'mariposa', 'vaca', 'gallina', 'ardilla', 'elefante', 'araña', 'gato', 'oveja']\n"
     ]
    }
   ],
   "source": [
    "clases = os.listdir(\"raw-img\")\n",
    "print(\"CLASES:\" , len(clases) , clases)"
   ]
  },
  {
   "cell_type": "code",
   "execution_count": null,
   "metadata": {},
   "outputs": [],
   "source": [
    "datasets = [\"raw-img\"]\n",
    "\n",
    "HEIGHT =  200\n",
    "WIDTH = 300\n",
    "\n",
    "N = 10\n",
    "\n",
    "num_blocks_rows = HEIGHT // N\n",
    "num_blocks_cols = WIDTH // N\n",
    "\n",
    "for dataset in datasets:\n",
    "    print(\"dataset: \", dataset)\n",
    "    # Iniciamos el contador de tiempo\n",
    "    startTimer = time.perf_counter()\n",
    "\n",
    "    # Definimos el directorio de entrenamiento y prueba\n",
    "    train_dir = dataset+\"/\"+\"train\"\n",
    "    test_dir = dataset+\"/\"+\"test\"\n",
    "\n",
    "    # Inicializamos los arrays de datos de entrenamiento y prueba\n",
    "    X_train = []\n",
    "    y_train = []\n",
    "    X_test = []\n",
    "    y_test = []\n",
    "\n",
    "    print(\"Procesamos las imágenes de entrenamiento\")\n",
    "    # Procesamos las imágenes de entrenamiento\n",
    "    for label in os.listdir(train_dir):\n",
    "        label_dir = os.path.join(train_dir, label)\n",
    "        print(\"Procesando label: \", label)\n",
    "        for count, image_filename in enumerate(os.listdir(label_dir)):\n",
    "            image_path = os.path.join(label_dir, image_filename)\n",
    "            image = cv2.imread(image_path , 0)\n",
    "            resized_image = cv2.resize(image, (HEIGHT, WIDTH), interpolation=cv2.INTER_LINEAR)            \n",
    "            \n",
    "            \n",
    "            features = feature_extraction(resized_image, N);       \n",
    "\n",
    "            X_train.append(features.flatten())\n",
    "            y_train.append(label)\n",
    "\n",
    "            progress = 100 * (count + 1) / len(os.listdir(label_dir))\n",
    "            sys.stdout.write(\n",
    "                \"\\r Procesando Xtrain ... (\" + str(int(progress)) + \" %)\")\n",
    "        print(\"\")\n",
    "\n",
    "    print(\"Procesamos las imágenes de prueba\")\n",
    "    # Procesamos las imágenes de prueba\n",
    "    for label in os.listdir(test_dir):\n",
    "        label_dir = os.path.join(test_dir, label)\n",
    "        print(\"Procesando label: \", label)\n",
    "        for count, image_filename in enumerate(os.listdir(label_dir)):\n",
    "            image_path = os.path.join(label_dir, image_filename)\n",
    "            image = cv2.imread(image_path,0)\n",
    "            resized_image = cv2.resize(image, (HEIGHT, WIDTH), interpolation=cv2.INTER_LINEAR)\n",
    "                \n",
    "            features = feature_extraction(resized_image, N);   \n",
    "\n",
    "            \n",
    "            X_test.append(features.flatten())\n",
    "            y_test.append(label)\n",
    "\n",
    "            progress = 100 * (count + 1) / len(os.listdir(label_dir))\n",
    "            sys.stdout.write(\n",
    "                \"\\r Procesando Xtest ... (\" + str(int(progress)) + \" %)\")\n",
    "        print(\"\")\n",
    "    print(\"\")\n",
    "    \n",
    "    # Convertimos los datos de entrenamiento y prueba a arrays de NumPy\n",
    "    X_train = np.array(X_train)\n",
    "    y_train = np.array(y_train)\n",
    "    X_test = np.array(X_test)\n",
    "    y_test = np.array(y_test)\n",
    "\n",
    "\n",
    "    print(\"SHAPE Xtrin\",X_train.shape)\n",
    "    print(\"SHAPE y_train\",y_train.shape)\n",
    "    print(\"SHAPE X_test\",X_test.shape)\n",
    "    print(\"SHAPE y_test\",y_test.shape)\n",
    "    \n",
    "    \n",
    "    # Creamos un clasificador SVM\n",
    "    clf = SVC(gamma='auto')\n",
    "\n",
    "    # Entrenamos el clasificador con los datos de entrenamiento\n",
    "    clf.fit(X_train, y_train)\n",
    "\n",
    "    # Realizamos predicciones con el clasificador entrenado\n",
    "    y_pred = clf.predict(X_test)\n",
    "\n",
    "    # Calculamos el porcentaje de acierto\n",
    "    accuracy = np.mean(y_pred == y_test)\n",
    "    print(\"Precisión: {:.2f}%\".format(accuracy * 100))\n",
    "\n",
    "    # Detenemos el contador de tiempo\n",
    "    endTimer = time.perf_counter()\n",
    "\n",
    "    # Calculamos el tiempo transcurrido\n",
    "    elapsed = endTimer - startTimer\n",
    "    # Obtenemos el tiempo transcurrido en minutos y segundos\n",
    "    minutes, seconds = divmod(elapsed, 60)\n",
    "\n",
    "    # Mostramos el tiempo transcurrido en minutos y segundos\n",
    "    print(f\"Tiempo transcurrido: {minutes:.0f} minutos {seconds:.2f} segundos\")"
   ]
  }
 ],
 "metadata": {
  "kernelspec": {
   "display_name": "Python 3.8.10 64-bit",
   "language": "python",
   "name": "python3"
  },
  "language_info": {
   "codemirror_mode": {
    "name": "ipython",
    "version": 3
   },
   "file_extension": ".py",
   "mimetype": "text/x-python",
   "name": "python",
   "nbconvert_exporter": "python",
   "pygments_lexer": "ipython3",
   "version": "3.8.10"
  },
  "orig_nbformat": 4,
  "vscode": {
   "interpreter": {
    "hash": "916dbcbb3f70747c44a77c7bcd40155683ae19c65e1c03b4aa3499c5328201f1"
   }
  }
 },
 "nbformat": 4,
 "nbformat_minor": 2
}
