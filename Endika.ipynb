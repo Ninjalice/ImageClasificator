{
 "cells": [
  {
   "cell_type": "code",
   "execution_count": 3,
   "metadata": {},
   "outputs": [],
   "source": [
    "import cv2\n",
    "import os\n",
    "import sys\n",
    "import time\n",
    "import numpy as np \n",
    "import json\n",
    "import skimage\n",
    "from matplotlib import pyplot as plt\n",
    "from skimage import color\n",
    "from skimage.feature import hog\n",
    "from sklearn.model_selection import train_test_split\n",
    "from sklearn import svm\n",
    "from sklearn.metrics import classification_report,accuracy_score\n"
   ]
  },
  {
   "cell_type": "code",
   "execution_count": 2,
   "metadata": {},
   "outputs": [
    {
     "name": "stdout",
     "output_type": "stream",
     "text": [
      "CLASES: 10 ['perro', 'caballo', 'mariposa', 'vaca', 'gallina', 'ardilla', 'elefante', 'araña', 'gato', 'oveja']\n"
     ]
    }
   ],
   "source": [
    "clases = os.listdir(\"raw-img\")\n",
    "print(\"CLASES:\" , len(clases) , clases)"
   ]
  },
  {
   "cell_type": "code",
   "execution_count": 6,
   "metadata": {},
   "outputs": [
    {
     "name": "stdout",
     "output_type": "stream",
     "text": [
      "Procesando label:  perro\n",
      " Procesando Xtest ... (100 %)\n",
      "Procesando label:  caballo\n",
      " Procesando Xtest ... (100 %)\n",
      "Procesando label:  mariposa\n",
      " Procesando Xtest ... (100 %)\n",
      "Procesando label:  vaca\n",
      " Procesando Xtest ... (100 %)\n",
      "Procesando label:  gallina\n",
      " Procesando Xtest ... (100 %)\n",
      "Procesando label:  ardilla\n",
      " Procesando Xtest ... (100 %)\n",
      "Procesando label:  elefante\n",
      " Procesando Xtest ... (100 %)\n",
      "Procesando label:  araña\n",
      " Procesando Xtest ... (100 %)\n",
      "Procesando label:  gato\n",
      " Procesando Xtest ... (19 %)"
     ]
    },
    {
     "ename": "",
     "evalue": "",
     "output_type": "error",
     "traceback": [
      "\u001b[1;31mCanceled future for execute_request message before replies were done"
     ]
    },
    {
     "ename": "",
     "evalue": "",
     "output_type": "error",
     "traceback": [
      "\u001b[1;31mThe Kernel crashed while executing code in the the current cell or a previous cell. Please review the code in the cell(s) to identify a possible cause of the failure. Click <a href='https://aka.ms/vscodeJupyterKernelCrash'>here</a> for more info. View Jupyter <a href='command:jupyter.viewOutput'>log</a> for further details."
     ]
    }
   ],
   "source": [
    "# Creamos las listas donde almacenaremos las características y las etiquetas\n",
    "X = []\n",
    "Y = []\n",
    "ppc = 10\n",
    "\n",
    "HEIGHT =  200\n",
    "WIDTH = 300\n",
    "\n",
    "NImagenes = 200\n",
    "\n",
    "# Recorremos cada una de las carpetas\n",
    "for folder in os.listdir(\"raw-img\"):\n",
    "    print(\"Procesando label: \", folder)\n",
    "    # Leemos cada una de las imágenes de la carpeta\n",
    "    for count, file in enumerate(os.listdir(os.path.join(\"raw-img\", folder))[:NImagenes]):\n",
    "        # Cargamos la imagen y la convertimos a escala de grises\n",
    "        image = skimage.io.imread(os.path.join(\"raw-img\", folder, file), as_gray=True)\n",
    "\n",
    "        resized_image = cv2.resize(image, (HEIGHT, WIDTH), interpolation=cv2.INTER_LINEAR)\n",
    "        # Calculamos las características con HOG\n",
    "        features = hog(resized_image, orientations=8, pixels_per_cell=(ppc,ppc),cells_per_block=(4, 4),block_norm= 'L2')\n",
    "        # Añadimos las características y la etiqueta a las listas\n",
    "        X.append(features)\n",
    "        Y.append(folder)\n",
    "        progress = 100 * (count + 1) / len(os.listdir(os.path.join(\"raw-img\", folder))[:NImagenes])\n",
    "        sys.stdout.write( \"\\r Procesando Xtest ... (\" + str(int(progress)) + \" %)\")\n",
    "    print(\"\")\n",
    "\n",
    "data_frame = np.hstack((X, Y))\n",
    "np.random.shuffle(data_frame)\n",
    "\n",
    "# Separamos el conjunto de datos en entrenamiento y test\n",
    "X_train, X_test, Y_train, Y_test = train_test_split(data_frame[:,:-1], data_frame[:,-1], test_size=0.2)\n",
    "\n",
    "X_train = np.array(X_train)\n",
    "X_test = np.array(X_test)\n",
    "Y_train = np.array(Y_train)\n",
    "Y_test = np.array(Y_test)\n",
    "\n",
    "print(\"SHAPE Xtrin\",X_train.shape)\n",
    "print(\"SHAPE y_train\",Y_train.shape)\n",
    "print(\"SHAPE X_test\",X_test.shape)\n",
    "print(\"SHAPE y_test\",Y_test.shape)"
   ]
  }
 ],
 "metadata": {
  "kernelspec": {
   "display_name": "Python 3.8.10 64-bit",
   "language": "python",
   "name": "python3"
  },
  "language_info": {
   "codemirror_mode": {
    "name": "ipython",
    "version": 3
   },
   "file_extension": ".py",
   "mimetype": "text/x-python",
   "name": "python",
   "nbconvert_exporter": "python",
   "pygments_lexer": "ipython3",
   "version": "3.8.10"
  },
  "orig_nbformat": 4,
  "vscode": {
   "interpreter": {
    "hash": "916dbcbb3f70747c44a77c7bcd40155683ae19c65e1c03b4aa3499c5328201f1"
   }
  }
 },
 "nbformat": 4,
 "nbformat_minor": 2
}
