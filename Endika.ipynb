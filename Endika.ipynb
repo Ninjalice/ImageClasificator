{
 "cells": [
  {
   "cell_type": "code",
   "execution_count": 3,
   "metadata": {},
   "outputs": [],
   "source": [
    "import cv2\n",
    "import os\n",
    "import sys\n",
    "import time\n",
    "import numpy as np \n",
    "import json\n",
    "import skimage\n",
    "from matplotlib import pyplot as plt\n",
    "from skimage import color\n",
    "from skimage.feature import hog\n",
    "from sklearn.model_selection import train_test_split\n",
    "from sklearn import svm\n",
    "from sklearn.metrics import classification_report,accuracy_score\n"
   ]
  },
  {
   "cell_type": "code",
   "execution_count": 2,
   "metadata": {},
   "outputs": [
    {
     "name": "stdout",
     "output_type": "stream",
     "text": [
      "CLASES: 10 ['perro', 'caballo', 'mariposa', 'vaca', 'gallina', 'ardilla', 'elefante', 'araña', 'gato', 'oveja']\n"
     ]
    }
   ],
   "source": [
    "clases = os.listdir(\"raw-img\")\n",
    "print(\"CLASES:\" , len(clases) , clases)"
   ]
  },
  {
   "cell_type": "code",
   "execution_count": 5,
   "metadata": {},
   "outputs": [
    {
     "name": "stdout",
     "output_type": "stream",
     "text": [
      "Procesando label:  perro\n",
      " Procesando Xtest ... (100 %)\n",
      "Procesando label:  caballo\n",
      " Procesando Xtest ... (100 %)\n",
      "Procesando label:  mariposa\n",
      " Procesando Xtest ... (51 %)"
     ]
    },
    {
     "ename": "KeyboardInterrupt",
     "evalue": "",
     "output_type": "error",
     "traceback": [
      "\u001b[0;31m---------------------------------------------------------------------------\u001b[0m",
      "\u001b[0;31mKeyboardInterrupt\u001b[0m                         Traceback (most recent call last)",
      "Cell \u001b[0;32mIn [5], line 20\u001b[0m\n\u001b[1;32m     18\u001b[0m resized_image \u001b[38;5;241m=\u001b[39m cv2\u001b[38;5;241m.\u001b[39mresize(image, (HEIGHT, WIDTH), interpolation\u001b[38;5;241m=\u001b[39mcv2\u001b[38;5;241m.\u001b[39mINTER_LINEAR)\n\u001b[1;32m     19\u001b[0m \u001b[38;5;66;03m# Calculamos las características con HOG\u001b[39;00m\n\u001b[0;32m---> 20\u001b[0m features \u001b[38;5;241m=\u001b[39m hog(resized_image, orientations\u001b[38;5;241m=\u001b[39m\u001b[38;5;241m8\u001b[39m, pixels_per_cell\u001b[38;5;241m=\u001b[39m(ppc,ppc),cells_per_block\u001b[38;5;241m=\u001b[39m(\u001b[38;5;241m4\u001b[39m, \u001b[38;5;241m4\u001b[39m),block_norm\u001b[38;5;241m=\u001b[39m \u001b[38;5;124m'\u001b[39m\u001b[38;5;124mL2\u001b[39m\u001b[38;5;124m'\u001b[39m)\n\u001b[1;32m     21\u001b[0m \u001b[38;5;66;03m# Añadimos las características y la etiqueta a las listas\u001b[39;00m\n\u001b[1;32m     22\u001b[0m X\u001b[38;5;241m.\u001b[39mappend(features)\n",
      "File \u001b[0;32m~/.local/lib/python3.8/site-packages/skimage/_shared/utils.py:394\u001b[0m, in \u001b[0;36mchannel_as_last_axis.__call__.<locals>.fixed_func\u001b[0;34m(*args, **kwargs)\u001b[0m\n\u001b[1;32m    391\u001b[0m channel_axis \u001b[39m=\u001b[39m kwargs\u001b[39m.\u001b[39mget(\u001b[39m'\u001b[39m\u001b[39mchannel_axis\u001b[39m\u001b[39m'\u001b[39m, \u001b[39mNone\u001b[39;00m)\n\u001b[1;32m    393\u001b[0m \u001b[39mif\u001b[39;00m channel_axis \u001b[39mis\u001b[39;00m \u001b[39mNone\u001b[39;00m:\n\u001b[0;32m--> 394\u001b[0m     \u001b[39mreturn\u001b[39;00m func(\u001b[39m*\u001b[39;49margs, \u001b[39m*\u001b[39;49m\u001b[39m*\u001b[39;49mkwargs)\n\u001b[1;32m    396\u001b[0m \u001b[39m# TODO: convert scalars to a tuple in anticipation of eventually\u001b[39;00m\n\u001b[1;32m    397\u001b[0m \u001b[39m#       supporting a tuple of channel axes. Right now, only an\u001b[39;00m\n\u001b[1;32m    398\u001b[0m \u001b[39m#       integer or a single-element tuple is supported, though.\u001b[39;00m\n\u001b[1;32m    399\u001b[0m \u001b[39mif\u001b[39;00m np\u001b[39m.\u001b[39misscalar(channel_axis):\n",
      "File \u001b[0;32m~/.local/lib/python3.8/site-packages/skimage/_shared/utils.py:348\u001b[0m, in \u001b[0;36mdeprecate_multichannel_kwarg.__call__.<locals>.fixed_func\u001b[0;34m(*args, **kwargs)\u001b[0m\n\u001b[1;32m    345\u001b[0m     kwargs[\u001b[39m'\u001b[39m\u001b[39mchannel_axis\u001b[39m\u001b[39m'\u001b[39m] \u001b[39m=\u001b[39m convert[kwargs\u001b[39m.\u001b[39mpop(\u001b[39m'\u001b[39m\u001b[39mmultichannel\u001b[39m\u001b[39m'\u001b[39m)]\n\u001b[1;32m    347\u001b[0m \u001b[39m# Call the function with the fixed arguments\u001b[39;00m\n\u001b[0;32m--> 348\u001b[0m \u001b[39mreturn\u001b[39;00m func(\u001b[39m*\u001b[39;49margs, \u001b[39m*\u001b[39;49m\u001b[39m*\u001b[39;49mkwargs)\n",
      "File \u001b[0;32m~/.local/lib/python3.8/site-packages/skimage/feature/_hog.py:238\u001b[0m, in \u001b[0;36mhog\u001b[0;34m(image, orientations, pixels_per_cell, cells_per_block, block_norm, visualize, transform_sqrt, feature_vector, multichannel, channel_axis)\u001b[0m\n\u001b[1;32m    235\u001b[0m g_row \u001b[39m=\u001b[39m g_row\u001b[39m.\u001b[39mastype(\u001b[39mfloat\u001b[39m, copy\u001b[39m=\u001b[39m\u001b[39mFalse\u001b[39;00m)\n\u001b[1;32m    236\u001b[0m g_col \u001b[39m=\u001b[39m g_col\u001b[39m.\u001b[39mastype(\u001b[39mfloat\u001b[39m, copy\u001b[39m=\u001b[39m\u001b[39mFalse\u001b[39;00m)\n\u001b[0;32m--> 238\u001b[0m _hoghistogram\u001b[39m.\u001b[39;49mhog_histograms(g_col, g_row, c_col, c_row, s_col, s_row,\n\u001b[1;32m    239\u001b[0m                              n_cells_col, n_cells_row,\n\u001b[1;32m    240\u001b[0m                              orientations, orientation_histogram)\n\u001b[1;32m    242\u001b[0m \u001b[39m# now compute the histogram for each cell\u001b[39;00m\n\u001b[1;32m    243\u001b[0m hog_image \u001b[39m=\u001b[39m \u001b[39mNone\u001b[39;00m\n",
      "\u001b[0;31mKeyboardInterrupt\u001b[0m: "
     ]
    }
   ],
   "source": [
    "# Creamos las listas donde almacenaremos las características y las etiquetas\n",
    "X = []\n",
    "Y = []\n",
    "ppc = 10\n",
    "\n",
    "HEIGHT =  200\n",
    "WIDTH = 300\n",
    "\n",
    "NImagenes = 200\n",
    "# Recorremos cada una de las carpetas\n",
    "for folder in os.listdir(\"raw-img\"):\n",
    "    print(\"Procesando label: \", folder)\n",
    "    # Leemos cada una de las imágenes de la carpeta\n",
    "    for count, file in enumerate(os.listdir(os.path.join(\"raw-img\", folder))[:NImagenes]):\n",
    "        # Cargamos la imagen y la convertimos a escala de grises\n",
    "        image = skimage.io.imread(os.path.join(\"raw-img\", folder, file), as_gray=True)\n",
    "\n",
    "        resized_image = cv2.resize(image, (HEIGHT, WIDTH), interpolation=cv2.INTER_LINEAR)\n",
    "        # Calculamos las características con HOG\n",
    "        features = hog(resized_image, orientations=8, pixels_per_cell=(ppc,ppc),cells_per_block=(4, 4),block_norm= 'L2')\n",
    "        # Añadimos las características y la etiqueta a las listas\n",
    "        X.append(features)\n",
    "        Y.append(folder)\n",
    "        progress = 100 * (count + 1) / len(os.listdir(os.path.join(\"raw-img\", folder))[:NImagenes])\n",
    "        sys.stdout.write( \"\\r Procesando Xtest ... (\" + str(int(progress)) + \" %)\")\n",
    "    print(\"\")\n",
    "\n",
    "# Separamos el conjunto de datos en entrenamiento y test\n",
    "X_train, X_test, Y_train, Y_test = train_test_split(X, Y, test_size=0.2)\n",
    "\n",
    "X_train = np.array(X_train)\n",
    "X_test = np.array(X_test)\n",
    "Y_train = np.array(Y_train)\n",
    "Y_test = np.array(Y_test)\n",
    "\n",
    "print(\"SHAPE Xtrin\",X_train.shape)\n",
    "print(\"SHAPE y_train\",Y_train.shape)\n",
    "print(\"SHAPE X_test\",X_test.shape)\n",
    "print(\"SHAPE y_test\",Y_test.shape)"
   ]
  },
  {
   "cell_type": "code",
   "execution_count": null,
   "metadata": {},
   "outputs": [],
   "source": [
    "clf = svm.SVC()\n",
    "hog_features = np.array(hog_features)\n",
    "data_frame = np.hstack((hog_features,labels))\n",
    "np.random.shuffle(data_frame)"
   ]
  },
  {
   "cell_type": "code",
   "execution_count": null,
   "metadata": {},
   "outputs": [],
   "source": [
    "#What percentage of data you want to keep for training\n",
    "percentage = 80\n",
    "partition = int(len(hog_features)*percentage/100)"
   ]
  },
  {
   "cell_type": "code",
   "execution_count": null,
   "metadata": {},
   "outputs": [],
   "source": [
    "x_train, x_test = data_frame[:partition,:-1],  data_frame[partition:,:-1]\n",
    "y_train, y_test = data_frame[:partition,-1:].ravel() , data_frame[partition:,-1:].ravel()\n",
    "\n",
    "clf.fit(x_train,y_train)"
   ]
  },
  {
   "cell_type": "code",
   "execution_count": null,
   "metadata": {},
   "outputs": [],
   "source": [
    "y_pred = clf.predict(x_test)"
   ]
  },
  {
   "cell_type": "code",
   "execution_count": null,
   "metadata": {},
   "outputs": [],
   "source": [
    "print(\"Accuracy: \"+str(accuracy_score(y_test, y_pred)))\n",
    "print('\\n')\n",
    "print(classification_report(y_test, y_pred))"
   ]
  }
 ],
 "metadata": {
  "kernelspec": {
   "display_name": "Python 3.8.10 64-bit",
   "language": "python",
   "name": "python3"
  },
  "language_info": {
   "codemirror_mode": {
    "name": "ipython",
    "version": 3
   },
   "file_extension": ".py",
   "mimetype": "text/x-python",
   "name": "python",
   "nbconvert_exporter": "python",
   "pygments_lexer": "ipython3",
   "version": "3.8.10"
  },
  "orig_nbformat": 4,
  "vscode": {
   "interpreter": {
    "hash": "916dbcbb3f70747c44a77c7bcd40155683ae19c65e1c03b4aa3499c5328201f1"
   }
  }
 },
 "nbformat": 4,
 "nbformat_minor": 2
}
