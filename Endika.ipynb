{
 "cells": [
  {
   "cell_type": "code",
   "execution_count": 1,
   "metadata": {},
   "outputs": [],
   "source": [
    "import cv2\n",
    "import os\n",
    "import sys\n",
    "import time\n",
    "import numpy as np \n",
    "import json\n",
    "import skimage\n",
    "from matplotlib import pyplot as plt\n",
    "from skimage import color\n",
    "from skimage.feature import hog\n",
    "from sklearn.model_selection import train_test_split\n",
    "from sklearn import svm\n",
    "from sklearn.metrics import classification_report,accuracy_score\n"
   ]
  },
  {
   "cell_type": "code",
   "execution_count": 2,
   "metadata": {},
   "outputs": [
    {
     "name": "stdout",
     "output_type": "stream",
     "text": [
      "CLASES: 10 ['perro', 'caballo', 'mariposa', 'vaca', 'gallina', 'ardilla', 'elefante', 'araña', 'gato', 'oveja']\n"
     ]
    }
   ],
   "source": [
    "clases = os.listdir(\"raw-img\")\n",
    "print(\"CLASES:\" , len(clases) , clases)"
   ]
  },
  {
   "cell_type": "code",
   "execution_count": 3,
   "metadata": {},
   "outputs": [
    {
     "name": "stdout",
     "output_type": "stream",
     "text": [
      "Procesando label:  perro\n"
     ]
    },
    {
     "ename": "NameError",
     "evalue": "name 'skimage' is not defined",
     "output_type": "error",
     "traceback": [
      "\u001b[0;31m---------------------------------------------------------------------------\u001b[0m",
      "\u001b[0;31mNameError\u001b[0m                                 Traceback (most recent call last)",
      "Cell \u001b[0;32mIn [3], line 15\u001b[0m\n\u001b[1;32m     12\u001b[0m \u001b[38;5;66;03m# Leemos cada una de las imágenes de la carpeta\u001b[39;00m\n\u001b[1;32m     13\u001b[0m \u001b[38;5;28;01mfor\u001b[39;00m count, file \u001b[38;5;129;01min\u001b[39;00m \u001b[38;5;28menumerate\u001b[39m(os\u001b[38;5;241m.\u001b[39mlistdir(os\u001b[38;5;241m.\u001b[39mpath\u001b[38;5;241m.\u001b[39mjoin(\u001b[38;5;124m\"\u001b[39m\u001b[38;5;124mraw-img\u001b[39m\u001b[38;5;124m\"\u001b[39m, folder))[:\u001b[38;5;241m200\u001b[39m]):\n\u001b[1;32m     14\u001b[0m     \u001b[38;5;66;03m# Cargamos la imagen y la convertimos a escala de grises\u001b[39;00m\n\u001b[0;32m---> 15\u001b[0m     image \u001b[38;5;241m=\u001b[39m skimage\u001b[38;5;241m.\u001b[39mio\u001b[38;5;241m.\u001b[39mimread(os\u001b[38;5;241m.\u001b[39mpath\u001b[38;5;241m.\u001b[39mjoin(\u001b[38;5;124m\"\u001b[39m\u001b[38;5;124mraw-img\u001b[39m\u001b[38;5;124m\"\u001b[39m, folder, file), as_gray\u001b[38;5;241m=\u001b[39m\u001b[38;5;28;01mTrue\u001b[39;00m)\n\u001b[1;32m     17\u001b[0m     resized_image \u001b[38;5;241m=\u001b[39m cv2\u001b[38;5;241m.\u001b[39mresize(image, (HEIGHT, WIDTH), interpolation\u001b[38;5;241m=\u001b[39mcv2\u001b[38;5;241m.\u001b[39mINTER_LINEAR)\n\u001b[1;32m     18\u001b[0m     \u001b[38;5;66;03m# Calculamos las características con HOG\u001b[39;00m\n",
      "\u001b[0;31mNameError\u001b[0m: name 'skimage' is not defined"
     ]
    }
   ],
   "source": [
    "# Creamos las listas donde almacenaremos las características y las etiquetas\n",
    "X = []\n",
    "Y = []\n",
    "ppc = 10\n",
    "\n",
    "HEIGHT =  200\n",
    "WIDTH = 300\n",
    "\n",
    "# Recorremos cada una de las carpetas\n",
    "for folder in os.listdir(\"raw-img\"):\n",
    "    print(\"Procesando label: \", folder)\n",
    "    # Leemos cada una de las imágenes de la carpeta\n",
    "    for count, file in enumerate(os.listdir(os.path.join(\"raw-img\", folder))[:200]):\n",
    "        # Cargamos la imagen y la convertimos a escala de grises\n",
    "        image = skimage.io.imread(os.path.join(\"raw-img\", folder, file), as_gray=True)\n",
    "\n",
    "        resized_image = cv2.resize(image, (HEIGHT, WIDTH), interpolation=cv2.INTER_LINEAR)\n",
    "        # Calculamos las características con HOG\n",
    "        features = hog(resized_image, orientations=8, pixels_per_cell=(ppc,ppc),cells_per_block=(4, 4),block_norm= 'L2')\n",
    "        # Añadimos las características y la etiqueta a las listas\n",
    "        X.append(features)\n",
    "        Y.append(folder)\n",
    "        progress = 100 * (count + 1) / len(os.listdir(os.path.join(\"raw-img\", folder)))\n",
    "        sys.stdout.write( \"\\r Procesando Xtest ... (\" + str(int(progress)) + \" %)\")\n",
    "    print(\"\")\n",
    "\n",
    "# Separamos el conjunto de datos en entrenamiento y test\n",
    "X_train, X_test, Y_train, Y_test = train_test_split(X, Y, test_size=0.2)\n",
    "\n",
    "print(\"SHAPE Xtrin\",X_train.shape)\n",
    "print(\"SHAPE y_train\",y_train.shape)\n",
    "print(\"SHAPE X_test\",X_test.shape)\n",
    "print(\"SHAPE y_test\",y_test.shape)"
   ]
  },
  {
   "cell_type": "code",
   "execution_count": null,
   "metadata": {},
   "outputs": [],
   "source": [
    "labels =  np.array(dataset['labels']).reshape(len(dataset['labels']),1)"
   ]
  },
  {
   "cell_type": "code",
   "execution_count": null,
   "metadata": {},
   "outputs": [],
   "source": [
    "clf = svm.SVC()\n",
    "hog_features = np.array(hog_features)\n",
    "data_frame = np.hstack((hog_features,labels))\n",
    "np.random.shuffle(data_frame)"
   ]
  },
  {
   "cell_type": "code",
   "execution_count": null,
   "metadata": {},
   "outputs": [],
   "source": [
    "#What percentage of data you want to keep for training\n",
    "percentage = 80\n",
    "partition = int(len(hog_features)*percentage/100)"
   ]
  },
  {
   "cell_type": "code",
   "execution_count": null,
   "metadata": {},
   "outputs": [],
   "source": [
    "x_train, x_test = data_frame[:partition,:-1],  data_frame[partition:,:-1]\n",
    "y_train, y_test = data_frame[:partition,-1:].ravel() , data_frame[partition:,-1:].ravel()\n",
    "\n",
    "clf.fit(x_train,y_train)"
   ]
  },
  {
   "cell_type": "code",
   "execution_count": null,
   "metadata": {},
   "outputs": [],
   "source": [
    "y_pred = clf.predict(x_test)"
   ]
  },
  {
   "cell_type": "code",
   "execution_count": null,
   "metadata": {},
   "outputs": [],
   "source": [
    "print(\"Accuracy: \"+str(accuracy_score(y_test, y_pred)))\n",
    "print('\\n')\n",
    "print(classification_report(y_test, y_pred))"
   ]
  }
 ],
 "metadata": {
  "kernelspec": {
   "display_name": "Python 3.8.10 64-bit",
   "language": "python",
   "name": "python3"
  },
  "language_info": {
   "codemirror_mode": {
    "name": "ipython",
    "version": 3
   },
   "file_extension": ".py",
   "mimetype": "text/x-python",
   "name": "python",
   "nbconvert_exporter": "python",
   "pygments_lexer": "ipython3",
   "version": "3.8.10"
  },
  "orig_nbformat": 4,
  "vscode": {
   "interpreter": {
    "hash": "916dbcbb3f70747c44a77c7bcd40155683ae19c65e1c03b4aa3499c5328201f1"
   }
  }
 },
 "nbformat": 4,
 "nbformat_minor": 2
}
